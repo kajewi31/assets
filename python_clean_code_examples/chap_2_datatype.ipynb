{
 "cells": [
  {
   "cell_type": "code",
   "execution_count": null,
   "metadata": {},
   "outputs": [],
   "source": [
    "# Named Tuple\n",
    "\n",
    "\n",
    "# A_1(With out Named Tuple)\n",
    "def get_user_info(user_id):\n",
    "    user = get_data_from_db(user_id)\n",
    "    first_name = user['first_name']\n",
    "    last_name = user['last_name']\n",
    "    age = user['age']\n",
    "    return (first_name, last_name, age)\n",
    "\n",
    "\n",
    "def get_full_name(first_name, last_name):\n",
    "    return ' '.join([first_name, last_name])\n",
    "\n",
    "\n",
    "(first_name, last_name, age) = get_user_info(1)\n",
    "full_name = get_full_name(first_name, last_name)\n",
    "\n",
    "# A_2(With out Named Tuple)\n",
    "def get_user_info(user_id):\n",
    "    user = get_data_from_db(user_id)\n",
    "    first_name = user['first_name']\n",
    "    last_name = user['last_name']\n",
    "    age = user['age']\n",
    "    return (first_name, last_name, age)\n",
    "\n",
    "\n",
    "def get_full_name(user_info):\n",
    "    return ' '.join([user_info[0], user_info[1]])\n",
    "\n",
    "\n",
    "user_info = get_user_info(1)\n",
    "full_name = get_full_name(user_info)\n",
    "\n",
    "\n",
    "# B(With Named Tuple)\n",
    "from collections import namedtuple\n",
    "\n",
    "\n",
    "def get_user_info(user_id):\n",
    "    user = get_data_from_db(user_id)\n",
    "    UserInfo = namedtuple('UserInfo', ['first_name', 'last_name', 'age'])\n",
    "    user_info = UserInfo(user['first_name'], user['last_name'], user['age'])\n",
    "    return user_info\n",
    "\n",
    "\n",
    "def get_full_name(user_info):\n",
    "    return ' '.join([user_info.first_name, user_info.last_name])\n",
    "\n",
    "\n",
    "user_info = get_user_info(1)\n",
    "full_name = get_full_name(user_info)"
   ]
  },
  {
   "cell_type": "code",
   "execution_count": 4,
   "metadata": {},
   "outputs": [],
   "source": [
    "# Generator\n",
    "\n",
    "\n",
    "# A(With out Generator)\n",
    "def get_prime_numbers(lower, higher):\n",
    "    primes = []\n",
    "    for num in range(lower, higher + 1):\n",
    "        for prime in range(2, num + 1):\n",
    "            is_prime = True\n",
    "            for item in range(2, int(num**0.5) + 1):\n",
    "                if num % item == 0:\n",
    "                    is_prime = False\n",
    "                    break\n",
    "\n",
    "        if is_prime:\n",
    "            primes.append(num)\n",
    "\n",
    "\n",
    "primes = get_prime_numbers(30, 3000)\n",
    "\n",
    "# B(With Generator)\n",
    "import math\n",
    "\n",
    "\n",
    "def is_prime(num):\n",
    "    prime = True\n",
    "    for item in range(2, int(math.sqrt(num)) + 1):\n",
    "        if num % item == 0:\n",
    "            prime = False\n",
    "    return prime\n",
    "\n",
    "\n",
    "def get_prime_numbers(lower, higher):\n",
    "    for possible_prime in range(lower, higher):\n",
    "        if is_prime(possible_prime):\n",
    "            yield possible_prime\n",
    "        # yield False\n",
    "\n",
    "\n",
    "primes = get_prime_numbers(30, 3000)"
   ]
  },
  {
   "cell_type": "code",
   "execution_count": 6,
   "metadata": {},
   "outputs": [
    {
     "data": {
      "text/plain": [
       "Counter({'Malta': 2, 'Albania': 1})"
      ]
     },
     "execution_count": 6,
     "metadata": {},
     "output_type": "execute_result"
    }
   ],
   "source": [
    "from collections import Counter\n",
    "\n",
    "contries_a = [\"Belarus\", \"Albania\", \"Malta\", \"Ukrain\", \"Belarus\", \"Malta\", \"Kosove\", \"Belarus\"]\n",
    "contries_b = [\"Belarus\", \"Ukrain\", \"Belarus\", \"Kosove\", \"Belarus\"]\n",
    "\n",
    "count_a = Counter(contries_a)\n",
    "count_b = Counter(contries_b)\n",
    "count_a - count_b"
   ]
  },
  {
   "cell_type": "code",
   "execution_count": 9,
   "metadata": {},
   "outputs": [
    {
     "data": {
      "text/plain": [
       "{'a': 4, 'b': 5, 'c': 3, 'd': 6}"
      ]
     },
     "execution_count": 9,
     "metadata": {},
     "output_type": "execute_result"
    }
   ],
   "source": [
    "dict_a = {'a': 1, 'b': 2, 'c': 3}\n",
    "dict_b = {'a': 4, 'b': 5, 'd': 6}\n",
    "\n",
    "dict_c = {**dict_a, **dict_b}\n",
    "dict_c"
   ]
  },
  {
   "cell_type": "code",
   "execution_count": 17,
   "metadata": {},
   "outputs": [
    {
     "data": {
      "text/plain": [
       "1"
      ]
     },
     "execution_count": 17,
     "metadata": {},
     "output_type": "execute_result"
    }
   ],
   "source": [
    "from collections import defaultdict\n",
    "\n",
    "default_1_dict = defaultdict(lambda: 1)\n",
    "\n",
    "default_1_dict['a']"
   ]
  },
  {
   "cell_type": "code",
   "execution_count": null,
   "metadata": {},
   "outputs": [],
   "source": []
  },
  {
   "cell_type": "code",
   "execution_count": null,
   "metadata": {},
   "outputs": [],
   "source": []
  }
 ],
 "metadata": {
  "kernelspec": {
   "display_name": "general",
   "language": "python",
   "name": "python3"
  },
  "language_info": {
   "codemirror_mode": {
    "name": "ipython",
    "version": 3
   },
   "file_extension": ".py",
   "mimetype": "text/x-python",
   "name": "python",
   "nbconvert_exporter": "python",
   "pygments_lexer": "ipython3",
   "version": "3.11.9"
  }
 },
 "nbformat": 4,
 "nbformat_minor": 2
}
