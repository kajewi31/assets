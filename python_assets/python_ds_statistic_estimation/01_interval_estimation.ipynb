{
 "cells": [
  {
   "cell_type": "code",
   "execution_count": 31,
   "metadata": {},
   "outputs": [
    {
     "data": {
      "text/plain": [
       "'%.3f'"
      ]
     },
     "execution_count": 31,
     "metadata": {},
     "output_type": "execute_result"
    }
   ],
   "source": [
    "import numpy as np\n",
    "from scipy.stats import t, norm\n",
    "\n",
    "%precision 3"
   ]
  },
  {
   "cell_type": "code",
   "execution_count": 34,
   "metadata": {},
   "outputs": [],
   "source": [
    "def t_criterion_two_side(p, df):\n",
    "    \"\"\"\n",
    "    t-분포 임계값 계산 함수\n",
    "    \n",
    "    Args:\n",
    "        p (float): 신뢰수준 (예: 0.90, 0.95 등)\n",
    "        df (int): 자유도 (degree of freedom)\n",
    "    Returns:\n",
    "        float: t-분포 임계값\n",
    "    \"\"\"\n",
    "    alpha = 1 - p  # 유의수준\n",
    "    return t.ppf(1 - alpha / 2, df)\n",
    "\n",
    "\n",
    "def t_criterion_one_side(p, df):\n",
    "    \"\"\"\n",
    "    t-분포 원측 임계값 계산 함수\n",
    "    \n",
    "    Args:\n",
    "        p (float): 신뢰수준 (예: 0.90, 0.95 등)\n",
    "        df (int): 자유도 (degree of freedom)\n",
    "    Returns:\n",
    "        float: t-분포 원측 임계값\n",
    "    \"\"\"\n",
    "    alpha = 1 - p  # 유의수준\n",
    "    return t.ppf(1 - alpha, df)\n",
    "\n",
    "\n",
    "def z_criterion_two_side(p):\n",
    "    \"\"\"\n",
    "    Z-분포 임계값 계산 함수  \n",
    "    \n",
    "    Args:\n",
    "        p (float): 신뢰수준 (예: 0.90, 0.95 등)\n",
    "    Returns:\n",
    "        float: Z-분포 임계값\n",
    "    \"\"\"\n",
    "    alpha = 1 - p  # 유의수준\n",
    "    return norm.ppf(1 - alpha / 2)\n",
    "\n",
    "\n",
    "def z_criterion_one_side(p):\n",
    "    \"\"\"\n",
    "    Z-분포 원측 임계값 계산 함수\n",
    "    \n",
    "    Args:\n",
    "        p (float): 신뢰수준 (예: 0.90, 0.95 등)\n",
    "    Returns:\n",
    "        float: Z-분포 원측 임계값\n",
    "    \"\"\"\n",
    "    alpha = 1 - p  # 유의수준\n",
    "    return norm.ppf(1 - alpha)"
   ]
  },
  {
   "cell_type": "code",
   "execution_count": 35,
   "metadata": {},
   "outputs": [],
   "source": [
    "def standard_error(variance, n):\n",
    "    return np.sqrt(variance / n)"
   ]
  },
  {
   "cell_type": "code",
   "execution_count": 37,
   "metadata": {},
   "outputs": [
    {
     "data": {
      "text/plain": [
       "(40.451, 43.549)"
      ]
     },
     "execution_count": 37,
     "metadata": {},
     "output_type": "execute_result"
    }
   ],
   "source": [
    "# **문제 1: 평균의 신뢰구간 (모분산이 알려진 경우)**\n",
    "# 한 회사의 직원 40명의 주간 근무 시간을 조사했더니, 표본 평균이 42시간, 모집단의 표준편차가 5시간으로 나타났습니다.\n",
    "# 모집단 평균에 대한 95% 신뢰구간을 구하세요.\n",
    "\n",
    "interval = z_criterion_two_side(.95) * standard_error(5**2, 40)\n",
    "(42 - interval, 42 + interval)"
   ]
  },
  {
   "cell_type": "code",
   "execution_count": 39,
   "metadata": {},
   "outputs": [
    {
     "data": {
      "text/plain": [
       "(5.329, 6.671)"
      ]
     },
     "execution_count": 39,
     "metadata": {},
     "output_type": "execute_result"
    }
   ],
   "source": [
    "# **문제 2: 평균의 신뢰구간 (모분산이 알려지지 않은 경우)**\n",
    "# 대학생 25명을 대상으로 하루 평균 공부 시간을 조사한 결과, 표본 평균이 6시간, 표본 표준편차가 1.2시간이었습니다.\n",
    "# 모집단 평균에 대한 99% 신뢰구간을 구하세요.\n",
    "\n",
    "interval = t_criterion_two_side(.99, 24) * standard_error(1.2**2, 25)\n",
    "(6 - interval, 6 + interval)"
   ]
  },
  {
   "cell_type": "code",
   "execution_count": 41,
   "metadata": {},
   "outputs": [
    {
     "data": {
      "text/plain": [
       "(0.543, 0.657)"
      ]
     },
     "execution_count": 41,
     "metadata": {},
     "output_type": "execute_result"
    }
   ],
   "source": [
    "# **문제 3: 비율의 신뢰구간**\n",
    "# 한 설문조사에서 200명 중 120명이 특정 브랜드의 제품에 만족한다고 답했습니다.\n",
    "# 이 설문조사 결과를 기반으로 모집단 만족 비율에 대한 90% 신뢰구간을 구하세요.\n",
    "s_mean = 120 / 200\n",
    "s_var = 120 / 200 * (1 - (120 / 200))\n",
    "\n",
    "interval = z_criterion_two_side(.90) * standard_error(s_var, 200)\n",
    "(s_mean - interval, s_mean + interval)"
   ]
  },
  {
   "cell_type": "code",
   "execution_count": 46,
   "metadata": {},
   "outputs": [
    {
     "data": {
      "text/plain": [
       "(-3.028, -2.372)"
      ]
     },
     "execution_count": 46,
     "metadata": {},
     "output_type": "execute_result"
    }
   ],
   "source": [
    "# **문제 4: 차이의 신뢰구간 (평균의 차이)**\n",
    "# 다이어트 프로그램의 효과를 확인하기 위해 10명의 참가자를 대상으로 프로그램 전후의 체중을 측정했습니다.\n",
    "# - 프로그램 전 체중: 80, 85, 78, 90, 88, 82, 76, 84, 83, 81\n",
    "# - 프로그램 후 체중: 78, 82, 75, 87, 85, 80, 74, 81, 80, 78\n",
    "# 참가자들의 평균 체중 감소에 대한 95% 신뢰구간을 구하세요.\n",
    "s_before = [80, 85, 78, 90, 88, 82, 76, 84, 83, 81]\n",
    "s_after = [78, 82, 75, 87, 85, 80, 74, 81, 80, 78]\n",
    "\n",
    "s_diff = np.array(s_after) - np.array(s_before)\n",
    "diff_mean = np.mean(s_diff)\n",
    "diff_var = np.var(s_diff)\n",
    "\n",
    "interval = t_criterion_two_side(.95, 9) * standard_error(diff_var, 10)\n",
    "(diff_mean - interval, diff_mean + interval)"
   ]
  },
  {
   "cell_type": "code",
   "execution_count": 47,
   "metadata": {},
   "outputs": [
    {
     "data": {
      "text/plain": [
       "(18.830, 21.170)"
      ]
     },
     "execution_count": 47,
     "metadata": {},
     "output_type": "execute_result"
    }
   ],
   "source": [
    "# **문제 5: 모분산의 신뢰구간**\n",
    "# 한 공장에서 생산되는 제품의 무게를 20개 샘플로 측정한 결과, 표본 분산이 2.5로 나타났습니다.\n",
    "# 모집단 분산에 대한 95% 신뢰구간을 구하세요.\n",
    "s_mean = 20\n",
    "\n",
    "interval = t_criterion_two_side(.95, 19) * standard_error(2.5**2, 20)\n",
    "(20 - interval, 20 + interval)"
   ]
  },
  {
   "cell_type": "code",
   "execution_count": null,
   "metadata": {},
   "outputs": [],
   "source": []
  }
 ],
 "metadata": {
  "kernelspec": {
   "display_name": "general",
   "language": "python",
   "name": "python3"
  },
  "language_info": {
   "codemirror_mode": {
    "name": "ipython",
    "version": 3
   },
   "file_extension": ".py",
   "mimetype": "text/x-python",
   "name": "python",
   "nbconvert_exporter": "python",
   "pygments_lexer": "ipython3",
   "version": "3.11.9"
  }
 },
 "nbformat": 4,
 "nbformat_minor": 2
}
