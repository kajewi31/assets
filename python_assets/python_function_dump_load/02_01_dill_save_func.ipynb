{
 "cells": [
  {
   "cell_type": "code",
   "execution_count": 9,
   "metadata": {},
   "outputs": [],
   "source": [
    "import dill\n",
    "\n",
    "def write_file(file_obj, file_path):\n",
    "    with open(file_path, 'wb') as f:\n",
    "        dill.dump(file_obj, f)\n",
    "    return None"
   ]
  },
  {
   "cell_type": "code",
   "execution_count": 10,
   "metadata": {},
   "outputs": [],
   "source": [
    "from functools import reduce\n",
    "\n",
    "\n",
    "def add_1(num):\n",
    "    return num + 1\n",
    "\n",
    "\n",
    "def add_2(num):\n",
    "    return num + 2\n",
    "\n",
    "\n",
    "def raw_add_3(num):\n",
    "    return add_2(add_1(num))\n",
    "\n",
    "\n",
    "def composer(*funcs):\n",
    "    return reduce(lambda f, g: lambda x: g(f(x)), funcs)\n",
    "\n",
    "\n",
    "composer_add_3 = composer(add_1, add_2)"
   ]
  },
  {
   "cell_type": "code",
   "execution_count": 11,
   "metadata": {},
   "outputs": [
    {
     "data": {
      "text/plain": [
       "(2, 3)"
      ]
     },
     "execution_count": 11,
     "metadata": {},
     "output_type": "execute_result"
    }
   ],
   "source": [
    "add_1(1), add_2(1)"
   ]
  },
  {
   "cell_type": "code",
   "execution_count": 12,
   "metadata": {},
   "outputs": [],
   "source": [
    "write_file(add_1, 'dill_add_1.pkl')\n",
    "write_file(add_2, 'dill_add_2.pkl')\n",
    "write_file(raw_add_3, 'dill_raw_add_3.pkl')\n",
    "write_file(composer_add_3, 'dill_composer_add_3.pkl')"
   ]
  },
  {
   "cell_type": "code",
   "execution_count": null,
   "metadata": {},
   "outputs": [],
   "source": []
  }
 ],
 "metadata": {
  "kernelspec": {
   "display_name": "general",
   "language": "python",
   "name": "python3"
  },
  "language_info": {
   "codemirror_mode": {
    "name": "ipython",
    "version": 3
   },
   "file_extension": ".py",
   "mimetype": "text/x-python",
   "name": "python",
   "nbconvert_exporter": "python",
   "pygments_lexer": "ipython3",
   "version": "3.11.9"
  }
 },
 "nbformat": 4,
 "nbformat_minor": 2
}
