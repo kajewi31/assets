{
 "cells": [
  {
   "cell_type": "code",
   "execution_count": 2,
   "metadata": {},
   "outputs": [
    {
     "name": "stdout",
     "output_type": "stream",
     "text": [
      "hello() : hello\n",
      "welcome() : welcome\n",
      "to_upper_case(hello) : HELLO\n",
      "to_upper_case(welcome) : WELCOME\n"
     ]
    }
   ],
   "source": [
    "def to_upper_case(func):\n",
    "    \"\"\"Convert to upper case and return to upper case.\"\"\"\n",
    "    text = func()\n",
    "\n",
    "    if not isinstance(text, str):\n",
    "        raise TypeError(\"Not a string type\")\n",
    "    return text.upper()\n",
    "\n",
    "\n",
    "def hello():\n",
    "    return 'hello'\n",
    "\n",
    "\n",
    "def welcome():\n",
    "    return 'welcome'\n",
    "\n",
    "\n",
    "print('hello() :', hello())\n",
    "print('welcome() :', welcome())\n",
    "print('to_upper_case(hello) :', to_upper_case(hello))\n",
    "print('to_upper_case(welcome) :', to_upper_case(welcome))"
   ]
  },
  {
   "cell_type": "code",
   "execution_count": 4,
   "metadata": {},
   "outputs": [
    {
     "name": "stdout",
     "output_type": "stream",
     "text": [
      "hello() : HELLO\n",
      "welcome() : WELCOME\n"
     ]
    }
   ],
   "source": [
    "@to_upper_case\n",
    "def hello():\n",
    "    return 'hello'\n",
    "\n",
    "\n",
    "@to_upper_case\n",
    "def welcome():\n",
    "    return 'welcome'\n",
    "\n",
    "\n",
    "print('hello() :', hello)\n",
    "print('welcome() :', welcome)"
   ]
  },
  {
   "cell_type": "code",
   "execution_count": 7,
   "metadata": {},
   "outputs": [
    {
     "name": "stdout",
     "output_type": "stream",
     "text": [
      "hello() : HELLO\n",
      "welcome() : WELCOME\n"
     ]
    }
   ],
   "source": [
    "def to_upper_case(func):\n",
    "    def wrapper():\n",
    "        text = func()\n",
    "        if not isinstance(text,str):\n",
    "            raise TypeError(\"Not a string type\")\n",
    "        return text.upper()\n",
    "    return wrapper\n",
    "\n",
    "\n",
    "@to_upper_case\n",
    "def hello():\n",
    "    return 'hello'\n",
    "\n",
    "\n",
    "@to_upper_case\n",
    "def welcome():\n",
    "    return 'welcome'\n",
    "\n",
    "print('hello() :', hello())\n",
    "print('welcome() :', welcome())"
   ]
  },
  {
   "cell_type": "code",
   "execution_count": 8,
   "metadata": {},
   "outputs": [
    {
     "name": "stdout",
     "output_type": "stream",
     "text": [
      "hello() : Jack! HELLO\n",
      "welcome() : Jack! WELCOME\n"
     ]
    }
   ],
   "source": [
    "def add_prefix(func):\n",
    "    def wrapper():\n",
    "        text = func()\n",
    "        if not isinstance(text, str):\n",
    "            raise TypeError(\"Not a string type\")\n",
    "        return 'Jack! ' + text\n",
    "\n",
    "    return wrapper\n",
    "\n",
    "\n",
    "def to_upper_case(func):\n",
    "    def wrapper():\n",
    "        text = func()\n",
    "        if not isinstance(text, str):\n",
    "            raise TypeError(\"Not a string type\")\n",
    "        return text.upper()\n",
    "\n",
    "    return wrapper\n",
    "\n",
    "@add_prefix\n",
    "@to_upper_case\n",
    "def hello():\n",
    "    return 'hello'\n",
    "\n",
    "@add_prefix\n",
    "@to_upper_case\n",
    "def welcome():\n",
    "    return 'welcome'\n",
    "\n",
    "\n",
    "print('hello() :', hello())\n",
    "print('welcome() :', welcome())"
   ]
  },
  {
   "cell_type": "code",
   "execution_count": 10,
   "metadata": {},
   "outputs": [
    {
     "name": "stdout",
     "output_type": "stream",
     "text": [
      "say(somthing) : SOMTHING\n"
     ]
    }
   ],
   "source": [
    "def to_upper_case(func):\n",
    "    def wrapper(*args, **kwargs):\n",
    "        text = func(*args, **kwargs)\n",
    "        if not isinstance(text, str):\n",
    "            raise TypeError(\"Not a string type\")\n",
    "        return text.upper()\n",
    "\n",
    "    return wrapper\n",
    "\n",
    "\n",
    "@to_upper_case\n",
    "def say(somthing):\n",
    "    return somthing\n",
    "\n",
    "\n",
    "print('say(somthing) :', say('somthing'))"
   ]
  },
  {
   "cell_type": "code",
   "execution_count": 11,
   "metadata": {},
   "outputs": [
    {
     "name": "stdout",
     "output_type": "stream",
     "text": [
      "say(somthing) : SOMTHING\n"
     ]
    }
   ],
   "source": [
    "from decorator import decorator\n",
    "\n",
    "\n",
    "@decorator\n",
    "def to_upper_case(func, *args, **kwargs):\n",
    "    text = func(*args, **kwargs)\n",
    "    if not isinstance(text,str):\n",
    "        raise TypeError('Not a str type')\n",
    "    return text.upper()\n",
    "\n",
    "@to_upper_case\n",
    "def say(somthing):\n",
    "    return somthing\n",
    "\n",
    "print('say(somthing) :', say('somthing'))"
   ]
  },
  {
   "cell_type": "code",
   "execution_count": null,
   "metadata": {},
   "outputs": [],
   "source": []
  }
 ],
 "metadata": {
  "kernelspec": {
   "display_name": "general",
   "language": "python",
   "name": "python3"
  },
  "language_info": {
   "codemirror_mode": {
    "name": "ipython",
    "version": 3
   },
   "file_extension": ".py",
   "mimetype": "text/x-python",
   "name": "python",
   "nbconvert_exporter": "python",
   "pygments_lexer": "ipython3",
   "version": "3.11.9"
  }
 },
 "nbformat": 4,
 "nbformat_minor": 2
}
