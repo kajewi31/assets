{
 "cells": [
  {
   "cell_type": "code",
   "execution_count": null,
   "metadata": {},
   "outputs": [],
   "source": [
    "# Pipeline Pattern\n",
    "\"\"\"\n",
    "Pipeline\n",
    "     \n",
    "\"\"\""
   ]
  },
  {
   "cell_type": "code",
   "execution_count": 1,
   "metadata": {},
   "outputs": [
    {
     "name": "stdout",
     "output_type": "stream",
     "text": [
      "Processing step 1\n",
      "Processing step 2\n",
      "Processing step 3\n",
      "Processing step 4\n",
      "Final result: 10.5\n"
     ]
    }
   ],
   "source": [
    "from abc import ABC, abstractmethod\n",
    "\n",
    "\n",
    "class Pipe(ABC):\n",
    "    @abstractmethod\n",
    "    def process(self, data):\n",
    "        pass\n",
    "\n",
    "\n",
    "class ConcretePipe1(Pipe):\n",
    "    def process(self, data):\n",
    "        print(\"Processing step 1\")\n",
    "        return data * 2\n",
    "\n",
    "\n",
    "class ConcretePipe2(Pipe):\n",
    "    def process(self, data):\n",
    "        print(\"Processing step 2\")\n",
    "        return data + 3\n",
    "\n",
    "\n",
    "class ConcretePipe3(Pipe):\n",
    "    def process(self, data):\n",
    "        print(\"Processing step 3\")\n",
    "        return data / 2\n",
    "\n",
    "\n",
    "class ConcretePipe4(Pipe):\n",
    "    def process(self, data):\n",
    "        print(\"Processing step 4\")\n",
    "        return data - 1\n",
    "\n",
    "\n",
    "class Pipeline:\n",
    "    def __init__(self, data):\n",
    "        self.data = data  # 초기 데이터를 저장\n",
    "        self.steps = []  # 파이프라인 단계 리스트\n",
    "\n",
    "    def add_step(self, step):\n",
    "        if not isinstance(step, Pipe):\n",
    "            raise TypeError(\"Step must be an instance of Pipe.\")\n",
    "        self.steps.append(step)\n",
    "\n",
    "    def __call__(self):\n",
    "        data = self.data  # 초기 데이터를 가져옴\n",
    "        for step in self.steps:\n",
    "            data = step.process(data)  # 각 단계에서 데이터 처리\n",
    "        return data\n",
    "\n",
    "\n",
    "# Example usage\n",
    "if __name__ == \"__main__\":\n",
    "    # 초기 데이터 설정\n",
    "    initial_data = 10\n",
    "\n",
    "    # 파이프라인 초기화\n",
    "    pipeline = Pipeline(initial_data)\n",
    "\n",
    "    # 단계 추가\n",
    "    pipeline.add_step(ConcretePipe1())\n",
    "    pipeline.add_step(ConcretePipe2())\n",
    "    pipeline.add_step(ConcretePipe3())\n",
    "    pipeline.add_step(ConcretePipe4())\n",
    "\n",
    "    # 파이프라인 실행\n",
    "    result = pipeline()\n",
    "    print(\"Final result:\", result)"
   ]
  },
  {
   "cell_type": "code",
   "execution_count": null,
   "metadata": {},
   "outputs": [],
   "source": []
  }
 ],
 "metadata": {
  "kernelspec": {
   "display_name": "general",
   "language": "python",
   "name": "python3"
  },
  "language_info": {
   "codemirror_mode": {
    "name": "ipython",
    "version": 3
   },
   "file_extension": ".py",
   "mimetype": "text/x-python",
   "name": "python",
   "nbconvert_exporter": "python",
   "pygments_lexer": "ipython3",
   "version": "3.11.9"
  }
 },
 "nbformat": 4,
 "nbformat_minor": 2
}
