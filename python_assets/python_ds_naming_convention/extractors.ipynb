{
 "cells": [
  {
   "cell_type": "code",
   "execution_count": null,
   "metadata": {},
   "outputs": [],
   "source": [
    "class Fetcher:\n",
    "    \"\"\" Data From Dynamic Sources \"\"\"\n",
    "    pass\n",
    "\n",
    "\n",
    "class Reader:\n",
    "    \"\"\" Data From Static Sources \"\"\"\n",
    "    pass\n",
    "\n",
    "\n",
    "class Extractor:\n",
    "    pass"
   ]
  }
 ],
 "metadata": {
  "language_info": {
   "name": "python"
  }
 },
 "nbformat": 4,
 "nbformat_minor": 2
}
