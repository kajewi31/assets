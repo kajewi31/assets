{
 "cells": [
  {
   "cell_type": "code",
   "execution_count": null,
   "metadata": {},
   "outputs": [],
   "source": [
    "# Proxy Pattern\n",
    "\"\"\"\n",
    "Proxy\n",
    "    - 대리 객체(Proxy)\n",
    "        - Proxy를 사용하여 실제 객체에 대한 접근을 제어하거나 추가 작업을 수행하는 디자인 패턴\n",
    "    - Proxy 객체는 실제 객체와 동일한 인터페이스를 가지며, 클라이언트는 Proxy를 통해 실제 객체를 사용합니다.\n",
    "\"\"\""
   ]
  },
  {
   "cell_type": "code",
   "execution_count": null,
   "metadata": {},
   "outputs": [],
   "source": [
    "\"\"\"\n",
    "상황 설정\n",
    "기업의 성장률 예측 시스템에서:\n",
    "    실제로 데이터를 계산하는 객체는 무겁고, 반복적으로 호출될 가능성이 높음.\n",
    "    Proxy 패턴을 활용하여:\n",
    "        캐싱: 동일한 요청에 대해 이전 결과를 반환\n",
    "        로깅: 요청 기록을 남김\n",
    "\"\"\""
   ]
  },
  {
   "cell_type": "code",
   "execution_count": null,
   "metadata": {},
   "outputs": [],
   "source": [
    "from abc import ABC, abstractmethod\n",
    "\n",
    "\n",
    "# 공통 인터페이스\n",
    "class GrowthRateCalculator(ABC):\n",
    "    @abstractmethod\n",
    "    def calculate_growth_rate(self, current, previous):\n",
    "        pass\n",
    "\n",
    "\n",
    "# 실제 객체\n",
    "class RealGrowthRateCalculator(GrowthRateCalculator):\n",
    "    def calculate_growth_rate(self, current, previous):\n",
    "        print(\"[RealCalculator] 실제 성장률 계산 중...\")\n",
    "        return ((current - previous) / previous) * 100\n",
    "\n",
    "\n",
    "# Proxy 객체\n",
    "class CachedGrowthRateCalculator(GrowthRateCalculator):\n",
    "    def __init__(self, real_calculator):\n",
    "        self.real_calculator = real_calculator\n",
    "        self.cache = {}\n",
    "\n",
    "    def calculate_growth_rate(self, current, previous):\n",
    "        key = (current, previous)  # 캐싱 키 생성\n",
    "        if key in self.cache:\n",
    "            print(\"[Proxy] 캐시에서 결과 반환.\")\n",
    "            return self.cache[key]\n",
    "\n",
    "        # 실제 계산기 호출 및 결과 저장\n",
    "        print(\"[Proxy] 캐시 없음. 실제 계산 호출.\")\n",
    "        result = self.real_calculator.calculate_growth_rate(current, previous)\n",
    "        self.cache[key] = result\n",
    "        return result\n",
    "\n",
    "\n",
    "# 클라이언트 코드\n",
    "def main():\n",
    "    real_calculator = RealGrowthRateCalculator()\n",
    "    proxy_calculator = CachedGrowthRateCalculator(real_calculator)\n",
    "\n",
    "    # 첫 번째 요청: 캐시 없음\n",
    "    result1 = proxy_calculator.calculate_growth_rate(1200, 1000)\n",
    "    print(f\"Result 1: {result1:.2f}%\\n\")\n",
    "\n",
    "    # 두 번째 요청: 동일한 입력값으로 캐시 사용\n",
    "    result2 = proxy_calculator.calculate_growth_rate(1200, 1000)\n",
    "    print(f\"Result 2: {result2:.2f}%\\n\")\n",
    "\n",
    "    # 세 번째 요청: 다른 입력값으로 캐시 미사용\n",
    "    result3 = proxy_calculator.calculate_growth_rate(1300, 1200)\n",
    "    print(f\"Result 3: {result3:.2f}%\\n\")\n",
    "\n",
    "\n",
    "main()"
   ]
  }
 ],
 "metadata": {
  "language_info": {
   "name": "python"
  }
 },
 "nbformat": 4,
 "nbformat_minor": 2
}
