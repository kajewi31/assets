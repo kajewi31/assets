{
 "cells": [
  {
   "cell_type": "code",
   "execution_count": 9,
   "metadata": {},
   "outputs": [],
   "source": [
    "def add_1(num):\n",
    "    return num + 1\n",
    "\n",
    "\n",
    "def add_2(num):\n",
    "    return num + 2\n",
    "\n",
    "\n",
    "def add_3(num):\n",
    "    return num + 3\n",
    "\n"
   ]
  },
  {
   "cell_type": "code",
   "execution_count": 10,
   "metadata": {},
   "outputs": [],
   "source": [
    "num = 1"
   ]
  },
  {
   "cell_type": "code",
   "execution_count": 11,
   "metadata": {},
   "outputs": [
    {
     "data": {
      "text/plain": [
       "7"
      ]
     },
     "execution_count": 11,
     "metadata": {},
     "output_type": "execute_result"
    }
   ],
   "source": [
    "# 함수 체이닝\n",
    "result = add_3(add_2(add_1(num)))\n",
    "result"
   ]
  },
  {
   "cell_type": "code",
   "execution_count": 12,
   "metadata": {},
   "outputs": [
    {
     "data": {
      "text/plain": [
       "7"
      ]
     },
     "execution_count": 12,
     "metadata": {},
     "output_type": "execute_result"
    }
   ],
   "source": [
    "# 함수 리스트\n",
    "result = num\n",
    "funcs = [add_1,add_2,add_3]\n",
    "\n",
    "for func in funcs:\n",
    "    result = func(result)\n",
    "result"
   ]
  },
  {
   "cell_type": "code",
   "execution_count": 13,
   "metadata": {},
   "outputs": [
    {
     "data": {
      "text/plain": [
       "7"
      ]
     },
     "execution_count": 13,
     "metadata": {},
     "output_type": "execute_result"
    }
   ],
   "source": [
    "# 함수 리스트 (def)\n",
    "\n",
    "def pipeline(data, *funcs):\n",
    "    for func in funcs:\n",
    "        data = func(data)\n",
    "    return data\n",
    "\n",
    "\n",
    "result = pipeline(1, add_1, add_2, add_3)\n",
    "result"
   ]
  },
  {
   "cell_type": "code",
   "execution_count": 14,
   "metadata": {},
   "outputs": [
    {
     "data": {
      "text/plain": [
       "7"
      ]
     },
     "execution_count": 14,
     "metadata": {},
     "output_type": "execute_result"
    }
   ],
   "source": [
    "# reduce 활용 (lambda)\n",
    "from functools import reduce\n",
    "\n",
    "composer = lambda f_1, f_2 : lambda x : f_2(f_1(x))\n",
    "adder = reduce(composer,[add_1,add_2,add_3])\n",
    "result = adder(num)\n",
    "result"
   ]
  },
  {
   "cell_type": "code",
   "execution_count": 15,
   "metadata": {},
   "outputs": [
    {
     "data": {
      "text/plain": [
       "7"
      ]
     },
     "execution_count": 15,
     "metadata": {},
     "output_type": "execute_result"
    }
   ],
   "source": [
    "# reduce 활용 (def)\n",
    "from functools import reduce\n",
    "\n",
    "def composer(f_1, f_2):\n",
    "    def composed_func(x):\n",
    "        return f_2(f_1(x))\n",
    "    return composed_func\n",
    "\n",
    "\n",
    "adder = reduce(composer, [add_1, add_2, add_3])\n",
    "result = adder(num)\n",
    "result"
   ]
  },
  {
   "cell_type": "code",
   "execution_count": 16,
   "metadata": {},
   "outputs": [],
   "source": [
    "# decorator "
   ]
  }
 ],
 "metadata": {
  "kernelspec": {
   "display_name": "general",
   "language": "python",
   "name": "python3"
  },
  "language_info": {
   "codemirror_mode": {
    "name": "ipython",
    "version": 3
   },
   "file_extension": ".py",
   "mimetype": "text/x-python",
   "name": "python",
   "nbconvert_exporter": "python",
   "pygments_lexer": "ipython3",
   "version": "3.11.9"
  }
 },
 "nbformat": 4,
 "nbformat_minor": 2
}
