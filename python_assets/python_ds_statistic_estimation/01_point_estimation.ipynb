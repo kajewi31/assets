{
 "cells": [
  {
   "cell_type": "code",
   "execution_count": 1,
   "metadata": {},
   "outputs": [],
   "source": [
    "import numpy as np"
   ]
  },
  {
   "cell_type": "code",
   "execution_count": 2,
   "metadata": {},
   "outputs": [
    {
     "data": {
      "text/plain": [
       "47.2"
      ]
     },
     "execution_count": 2,
     "metadata": {},
     "output_type": "execute_result"
    }
   ],
   "source": [
    "# 문제 1: 평균의 점추정\n",
    "# 어느 공장에서 생산하는 부품의 무게를 측정한 결과, 아래와 같은 표본 데이터가 나왔습니다.\n",
    "\n",
    "# 측정값: 45, 47, 50, 46, 48\n",
    "# 이 표본을 이용해 모집단 평균의 점추정을 하세요.\n",
    "samples = [45, 47, 50, 46, 48]\n",
    "p_mean = np.mean(samples)\n",
    "p_mean"
   ]
  },
  {
   "cell_type": "code",
   "execution_count": 5,
   "metadata": {},
   "outputs": [
    {
     "data": {
      "text/plain": [
       "Fraction(3, 5)"
      ]
     },
     "execution_count": 5,
     "metadata": {},
     "output_type": "execute_result"
    }
   ],
   "source": [
    "# 문제 2: 비율의 점추정\n",
    "# 한 설문조사에서 100명 중 60명이 특정 제품에 만족한다고 응답했습니다.\n",
    "# 모집단에서 이 제품에 만족하는 사람의 비율에 대한 점추정을 하세요.\n",
    "from fractions import Fraction\n",
    "p_mean = Fraction('60/100')\n",
    "p_mean"
   ]
  },
  {
   "cell_type": "code",
   "execution_count": 17,
   "metadata": {},
   "outputs": [
    {
     "data": {
      "text/plain": [
       "50.0"
      ]
     },
     "execution_count": 17,
     "metadata": {},
     "output_type": "execute_result"
    }
   ],
   "source": [
    "# 문제 3: 분산의 점추정\n",
    "# 어느 반의 학생 5명의 수학 시험 점수는 다음과 같습니다:\n",
    "# 75,80,85,90,95\n",
    "# 이 데이터를 사용하여 모집단 분산의 점추정을 하세요.\n",
    "# 단, 표본 분산 계산식을 사용하세요.\n",
    "\n",
    "samples = [75, 80, 85, 90, 95]\n",
    "s_var = np.var(samples, ddof=1)\n",
    "p_var = s_var\n",
    "p_var"
   ]
  },
  {
   "cell_type": "code",
   "execution_count": null,
   "metadata": {},
   "outputs": [],
   "source": []
  }
 ],
 "metadata": {
  "kernelspec": {
   "display_name": "general",
   "language": "python",
   "name": "python3"
  },
  "language_info": {
   "codemirror_mode": {
    "name": "ipython",
    "version": 3
   },
   "file_extension": ".py",
   "mimetype": "text/x-python",
   "name": "python",
   "nbconvert_exporter": "python",
   "pygments_lexer": "ipython3",
   "version": "3.11.9"
  }
 },
 "nbformat": 4,
 "nbformat_minor": 2
}
