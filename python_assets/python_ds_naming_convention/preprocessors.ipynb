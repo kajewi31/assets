{
 "cells": [
  {
   "cell_type": "code",
   "execution_count": null,
   "metadata": {},
   "outputs": [],
   "source": [
    "class Cleaner:\n",
    "    \"\"\" \n",
    "    원시 데이터를 대상으로 일반 전처리를 수행합니다.\n",
    "    \"\"\"\n",
    "    pass\n",
    "\n",
    "\n",
    "class Integrator:\n",
    "    \"\"\"\n",
    "    두 개 이상의 데이터를 통합합니다.\n",
    "    \"\"\"\n",
    "\n",
    "\n",
    "class Shaper:\n",
    "    \"\"\"\n",
    "    데이터의 index, column을 변환하거나 피벗 테이블 작업을 수행합니다.\n",
    "    \"\"\"\n",
    "\n",
    "\n",
    "class Modifier:\n",
    "    \"\"\"\n",
    "    테이블의 값을 변환하거나 수정합니다.\n",
    "    \"\"\"\n",
    "    pass\n"
   ]
  }
 ],
 "metadata": {
  "language_info": {
   "name": "python"
  }
 },
 "nbformat": 4,
 "nbformat_minor": 2
}
