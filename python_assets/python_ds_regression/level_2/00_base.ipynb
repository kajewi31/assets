{
 "cells": [
  {
   "cell_type": "code",
   "execution_count": 1,
   "metadata": {},
   "outputs": [],
   "source": [
    "import pandas as pd\n",
    "import numpy as np\n",
    "\n",
    "from sklearn.model_selection import train_test_split\n",
    "\n",
    "from sklearn.linear_model import LinearRegression\n",
    "\n",
    "from sklearn.metrics import r2_score\n",
    "from sklearn.metrics import r2_score, root_mean_squared_error\n",
    "\n",
    "import matplotlib.pyplot as plt"
   ]
  },
  {
   "cell_type": "code",
   "execution_count": 2,
   "metadata": {},
   "outputs": [],
   "source": [
    "# BASE\n",
    "from sklearn.datasets import make_regression\n",
    "n_features = 10\n",
    "\n",
    "X, y = make_regression(\n",
    "    n_samples=1000, n_features=n_features,\n",
    "    n_informative=6,\n",
    "    effective_rank=3,\n",
    "    bias=10,\n",
    "    noise=5,\n",
    "    random_state=42\n",
    ")\n",
    "\n",
    "feature_df = pd.DataFrame(X, columns=[f'feature_{i}' for i in range(n_features)])\n",
    "target_df = pd.DataFrame(y, columns=['target'])\n",
    "\n",
    "df = pd.concat([\n",
    "    feature_df, target_df\n",
    "], axis=1)\n",
    "\n",
    "X = df.drop(columns=['target'])\n",
    "y = df['target']\n",
    "\n",
    "X_train, X_test, y_train, y_test = train_test_split(X, y, test_size=0.2, shuffle=True)"
   ]
  },
  {
   "cell_type": "code",
   "execution_count": null,
   "metadata": {},
   "outputs": [],
   "source": []
  }
 ],
 "metadata": {
  "kernelspec": {
   "display_name": "general",
   "language": "python",
   "name": "python3"
  },
  "language_info": {
   "codemirror_mode": {
    "name": "ipython",
    "version": 3
   },
   "file_extension": ".py",
   "mimetype": "text/x-python",
   "name": "python",
   "nbconvert_exporter": "python",
   "pygments_lexer": "ipython3",
   "version": "3.11.9"
  }
 },
 "nbformat": 4,
 "nbformat_minor": 2
}
