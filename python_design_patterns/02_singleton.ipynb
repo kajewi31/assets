{
 "cells": [
  {
   "cell_type": "code",
   "execution_count": null,
   "metadata": {},
   "outputs": [],
   "source": [
    "# Singleton Pattern\n",
    "\"\"\"\n",
    "Singleton\n",
    "    - 인스턴스를 하나만 생성하도록 강제하는 패턴\n",
    "\"\"\""
   ]
  },
  {
   "cell_type": "code",
   "execution_count": null,
   "metadata": {},
   "outputs": [],
   "source": [
    "\"\"\"\n",
    "상황 설정:\n",
    "    - 여러 분석 모듈이 동일한 금융 데이터를 API를 통해 가져와야 한다고 가정\n",
    "    - API 호출에는 비용(요금)이 발생 혹은 호출 횟수에 제한\n",
    "    - 따라서 FinancialDataFetcher 클래스는 단 하나의 인스턴스만 생성\n",
    "    - 모든 분석 모듈이 이 인스턴스를 공유\n",
    "\"\"\""
   ]
  },
  {
   "cell_type": "code",
   "execution_count": 2,
   "metadata": {},
   "outputs": [
    {
     "name": "stdout",
     "output_type": "stream",
     "text": [
      "[API] Fetching revenue data from external API...\n",
      "Analyzing growth rate for revenue using revenue_data_from_api\n",
      "==========\n",
      "[API] Fetching asset data from external API...\n",
      "Analyzing growth rate for asset using asset_data_from_api\n",
      "==========\n",
      "[CACHE] Returning cached data for revenue\n",
      "Analyzing growth rate for revenue using revenue_data_from_api\n",
      "==========\n",
      "[API] Fetching liability data from external API...\n",
      "Analyzing growth rate for liability using liability_data_from_api\n",
      "==========\n"
     ]
    }
   ],
   "source": [
    "class FinancialDataFetcher:\n",
    "    \"\"\"\n",
    "    Singleton으로 구현된 금융 데이터 페처.\n",
    "    - API 호출 횟수를 줄이고 데이터 일관성을 유지하기 위해 단일 인스턴스만 사용.\n",
    "    \"\"\"\n",
    "    _instance = None\n",
    "\n",
    "    def __new__(cls, *args, **kwargs):\n",
    "        if not cls._instance:\n",
    "            cls._instance = super(FinancialDataFetcher, cls).__new__(cls)\n",
    "            cls._instance._cache = {}  # API 호출 결과를 캐싱\n",
    "        return cls._instance\n",
    "\n",
    "    def fetch_data(self, metric):\n",
    "        \"\"\"\n",
    "        API를 통해 데이터를 가져옴. 이미 캐싱된 데이터가 있다면 API를 호출하지 않음.\n",
    "        \"\"\"\n",
    "        if metric in self._cache:\n",
    "            print(f\"[CACHE] Returning cached data for {metric}\")\n",
    "            return self._cache[metric]\n",
    "        \n",
    "        # API 호출 (여기서는 가상의 호출)\n",
    "        print(f\"[API] Fetching {metric} data from external API...\")\n",
    "        result = f\"{metric}_data_from_api\"  # 가상의 데이터\n",
    "        self._cache[metric] = result\n",
    "        return result\n",
    "\n",
    "\n",
    "class GrowthRateAnalyzer:\n",
    "    \"\"\"\n",
    "    성장률 분석기.\n",
    "    - FinancialDataFetcher를 통해 데이터를 가져옴.\n",
    "    \"\"\"\n",
    "    def __init__(self):\n",
    "        self.fetcher = FinancialDataFetcher()\n",
    "\n",
    "    def calculate_growth_rate(self, metric):\n",
    "        \"\"\"\n",
    "        금융 데이터 성장률 계산 (간단히 캐싱된 데이터를 사용).\n",
    "        \"\"\"\n",
    "        data = self.fetcher.fetch_data(metric)\n",
    "        print(f\"Analyzing growth rate for {metric} using {data}\")\n",
    "        print(\"=\"*10)\n",
    "\n",
    "\n",
    "# 분석 작업 1\n",
    "analyzer1 = GrowthRateAnalyzer()\n",
    "analyzer1.calculate_growth_rate(\"revenue\")\n",
    "analyzer1.calculate_growth_rate(\"asset\")\n",
    "\n",
    "# 분석 작업 2 (다른 모듈에서 동일 객체 사용)\n",
    "analyzer2 = GrowthRateAnalyzer()\n",
    "analyzer2.calculate_growth_rate(\"revenue\")  # 캐싱된 데이터 사용\n",
    "analyzer2.calculate_growth_rate(\"liability\")"
   ]
  }
 ],
 "metadata": {
  "kernelspec": {
   "display_name": "general",
   "language": "python",
   "name": "python3"
  },
  "language_info": {
   "codemirror_mode": {
    "name": "ipython",
    "version": 3
   },
   "file_extension": ".py",
   "mimetype": "text/x-python",
   "name": "python",
   "nbconvert_exporter": "python",
   "pygments_lexer": "ipython3",
   "version": "3.11.9"
  }
 },
 "nbformat": 4,
 "nbformat_minor": 2
}
