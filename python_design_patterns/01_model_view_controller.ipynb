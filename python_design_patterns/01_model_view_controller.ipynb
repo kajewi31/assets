{
 "cells": [
  {
   "cell_type": "code",
   "execution_count": null,
   "metadata": {},
   "outputs": [],
   "source": [
    "# MVC Pattern\n",
    "\"\"\"\n",
    "Model-View-Controller\n",
    "    - Model : 애플리케이션의 지식\n",
    "    - View : 지식의 표현\n",
    "    - Controller : Model과 View의 연결고리\n",
    "\"\"\""
   ]
  },
  {
   "cell_type": "code",
   "execution_count": null,
   "metadata": {},
   "outputs": [],
   "source": [
    "\"\"\"\n",
    "예시\n",
    "기업의 성장률 예측 시스템을 구축한다.\n",
    "    - 부채\n",
    "    - 자산\n",
    "    - 매출\n",
    "    을 본다.\n",
    "\"\"\""
   ]
  },
  {
   "cell_type": "code",
   "execution_count": null,
   "metadata": {},
   "outputs": [],
   "source": [
    "class FinancialModel:\n",
    "    \"\"\"\n",
    "    Model: 재무 데이터를 저장하고 관리.\n",
    "    \"\"\"\n",
    "\n",
    "    def __init__(self, data):\n",
    "        self.data = data\n",
    "\n",
    "    def get_metric(self, metric_name):\n",
    "        \"\"\"\n",
    "        특정 재무 데이터를 반환.\n",
    "        \"\"\"\n",
    "        return self.data.get(metric_name, None)\n",
    "\n",
    "\n",
    "class FinancialView:\n",
    "    \"\"\"\n",
    "    View: 재무 데이터를 사용자에게 표시.\n",
    "    \"\"\"\n",
    "\n",
    "    def display_metric(self, metric_name, value):\n",
    "        \"\"\"\n",
    "        특정 재무 데이터를 출력.\n",
    "        \"\"\"\n",
    "        if value is not None:\n",
    "            print(f\"{metric_name.capitalize()}: {value}\")\n",
    "        else:\n",
    "            print(f\"{metric_name.capitalize()} 데이터가 존재하지 않습니다.\")\n",
    "\n",
    "\n",
    "class FinancialController:\n",
    "    \"\"\"\n",
    "    Controller: 사용자 요청을 처리하고 Model과 View를 연결.\n",
    "    \"\"\"\n",
    "\n",
    "    def __init__(self, model, view):\n",
    "        self.model = model\n",
    "        self.view = view\n",
    "\n",
    "    def show_metric(self, metric_name):\n",
    "        \"\"\"\n",
    "        특정 재무 데이터를 보여주는 메서드.\n",
    "        \"\"\"\n",
    "        value = self.model.get_metric(metric_name)\n",
    "        self.view.display_metric(metric_name, value)\n",
    "\n",
    "data = {}\n",
    "\n",
    "# MVC 초기화\n",
    "financial_model = FinancialModel(data)\n",
    "financial_view = FinancialView()\n",
    "financial_controller = FinancialController(financial_model, financial_view)\n",
    "\n",
    "# Controller를 통해 데이터 표시\n",
    "financial_controller.show_metric(\"liability\")\n",
    "financial_controller.show_metric(\"asset\")\n",
    "financial_controller.show_metric(\"revenue\")\n",
    "financial_controller.show_metric(\"unknown_metric\")  # 존재하지 않는 데이터"
   ]
  },
  {
   "cell_type": "code",
   "execution_count": null,
   "metadata": {},
   "outputs": [],
   "source": [
    "\"\"\"\n",
    "MVC 원칙\n",
    "    - Model은 데이터를 단순히 저장하고 제공하는 역할만 수행.\n",
    "    - View는 데이터를 출력하는 역할로 제한.\n",
    "    - Controller는 모든 비즈니스 로직과 사용자 요청을 처리하며, Model과 View를 연결.\n",
    "\"\"\""
   ]
  }
 ],
 "metadata": {
  "language_info": {
   "name": "python"
  }
 },
 "nbformat": 4,
 "nbformat_minor": 2
}
