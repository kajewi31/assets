{
 "cells": [
  {
   "cell_type": "code",
   "execution_count": 4,
   "metadata": {},
   "outputs": [],
   "source": [
    "import pandas as pd\n",
    "from sklearn.datasets import load_iris"
   ]
  },
  {
   "cell_type": "code",
   "execution_count": null,
   "metadata": {},
   "outputs": [],
   "source": [
    "from sqlalchemy import create_engine, text\n",
    "\n",
    "\n",
    "def make_db_con(user_id, user_pw, host_url, db_name):\n",
    "    db_con = create_engine(f'mysql+pymysql://{user_id}:{user_pw}@{host_url}/{db_name}')\n",
    "    return db_con\n",
    "\n",
    "\n",
    "def read_query(query, con):\n",
    "    df = pd.read_sql(query, con)\n",
    "    return df\n",
    "\n",
    "def execute_query(query, con):\n",
    "    with con.connect() as con:\n",
    "        con.execute(text(query))\n",
    "        con.commit()\n",
    "    return None"
   ]
  },
  {
   "cell_type": "code",
   "execution_count": null,
   "metadata": {},
   "outputs": [],
   "source": [
    "db_cfg = {\n",
    "    'user_id': 'admin',\n",
    "    'user_pw': '0000',\n",
    "    'host_url': 'localhost',\n",
    "    'db_name': 'personal_db',\n",
    "\n",
    "}\n",
    "db_con = make_db_con(**db_cfg)\n"
   ]
  },
  {
   "cell_type": "code",
   "execution_count": null,
   "metadata": {},
   "outputs": [],
   "source": [
    "query = 'SELECT * FROM my_table'\n",
    "df = read_query(query, db_con)"
   ]
  },
  {
   "cell_type": "code",
   "execution_count": null,
   "metadata": {},
   "outputs": [],
   "source": [
    "query = 'DROP TABLE my_table'\n",
    "execute_query(query, db_con)"
   ]
  }
 ],
 "metadata": {
  "kernelspec": {
   "display_name": "basement",
   "language": "python",
   "name": "python3"
  },
  "language_info": {
   "codemirror_mode": {
    "name": "ipython",
    "version": 3
   },
   "file_extension": ".py",
   "mimetype": "text/x-python",
   "name": "python",
   "nbconvert_exporter": "python",
   "pygments_lexer": "ipython3",
   "version": "3.12.8"
  }
 },
 "nbformat": 4,
 "nbformat_minor": 2
}
