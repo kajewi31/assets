{
 "cells": [
  {
   "cell_type": "code",
   "execution_count": null,
   "metadata": {},
   "outputs": [],
   "source": [
    "# 작은 함수\n",
    "\"\"\"\n",
    "하나의 작업을 수행하는 함수\n",
    "    함수가 하나의 작업을 수행하는 것\n",
    "        함수의 크기를 측정하는 방법은 무엇인가?\n",
    "            -> 라인이나 문자가 함수 크기의 척도는 아니다.\n",
    "\"\"\"\n",
    "# A(Bad)\n",
    "def get_unique_emails(file_name):\n",
    "    emails = set()\n",
    "    with open(file_name) as fread:\n",
    "        for line in fread:\n",
    "            match = re.findall(r'[\\w\\.-]+@[\\w\\.-]+', line)\n",
    "            for email in match:\n",
    "                emails.add(email)\n",
    "    return emails\n",
    "\n",
    "\n",
    "# B(Good)\n",
    "import re\n",
    "\n",
    "def get_unique_emails(file_name):\n",
    "    \"\"\"\n",
    "    Get all unique emails.\n",
    "    \"\"\"\n",
    "    emails = set()\n",
    "    for line in read_file(file_name):\n",
    "        match = re.findall(r'[\\w\\.-]+@[\\w\\.-]+', line)\n",
    "        for email in match:\n",
    "            emails.add(email)\n",
    "    return emails\n",
    "\n",
    "\n",
    "def read_file(file_name):\n",
    "    \"\"\"\n",
    "    Read file and yield each line.\n",
    "    \"\"\"\n",
    "    with open(file_name) as fread:\n",
    "        for line in fread:\n",
    "            yield line\n"
   ]
  },
  {
   "cell_type": "code",
   "execution_count": 1,
   "metadata": {},
   "outputs": [
    {
     "ename": "AttributeError",
     "evalue": "'Employee' object has no attribute 'birthday'",
     "output_type": "error",
     "traceback": [
      "\u001b[0;31m---------------------------------------------------------------------------\u001b[0m",
      "\u001b[0;31mAttributeError\u001b[0m                            Traceback (most recent call last)",
      "Cell \u001b[0;32mIn[1], line 62\u001b[0m\n\u001b[1;32m     58\u001b[0m         \u001b[38;5;28mself\u001b[39m\u001b[38;5;241m.\u001b[39m_age_last_recalculated \u001b[38;5;241m=\u001b[39m today\n\u001b[1;32m     61\u001b[0m \u001b[38;5;66;03m# 예시\u001b[39;00m\n\u001b[0;32m---> 62\u001b[0m employee_a \u001b[38;5;241m=\u001b[39m \u001b[43mEmployee\u001b[49m\u001b[43m(\u001b[49m\u001b[38;5;124;43m\"\u001b[39;49m\u001b[38;5;124;43mJohn Doe\u001b[39;49m\u001b[38;5;124;43m\"\u001b[39;49m\u001b[43m,\u001b[49m\u001b[43m \u001b[49m\u001b[38;5;241;43m1\u001b[39;49m\u001b[43m,\u001b[49m\u001b[43m \u001b[49m\u001b[38;5;124;43m\"\u001b[39;49m\u001b[38;5;124;43mEngineering\u001b[39;49m\u001b[38;5;124;43m\"\u001b[39;49m\u001b[43m)\u001b[49m\n\u001b[1;32m     63\u001b[0m \u001b[38;5;28mprint\u001b[39m(employee_a\u001b[38;5;241m.\u001b[39mid_with_name)\n\u001b[1;32m     64\u001b[0m \u001b[38;5;28mprint\u001b[39m(employee_a\u001b[38;5;241m.\u001b[39mage)\n",
      "Cell \u001b[0;32mIn[1], line 25\u001b[0m, in \u001b[0;36mEmployee.__init__\u001b[0;34m(self, name, id, department)\u001b[0m\n\u001b[1;32m     23\u001b[0m \u001b[38;5;28mself\u001b[39m\u001b[38;5;241m.\u001b[39mage \u001b[38;5;241m=\u001b[39m \u001b[38;5;28;01mNone\u001b[39;00m\n\u001b[1;32m     24\u001b[0m \u001b[38;5;28mself\u001b[39m\u001b[38;5;241m.\u001b[39m_age_last_calculated \u001b[38;5;241m=\u001b[39m \u001b[38;5;28;01mNone\u001b[39;00m\n\u001b[0;32m---> 25\u001b[0m \u001b[38;5;28;43mself\u001b[39;49m\u001b[38;5;241;43m.\u001b[39;49m\u001b[43m_recalculated_age\u001b[49m\u001b[43m(\u001b[49m\u001b[43m)\u001b[49m\n",
      "Cell \u001b[0;32mIn[1], line 51\u001b[0m, in \u001b[0;36mEmployee._recalculated_age\u001b[0;34m(self)\u001b[0m\n\u001b[1;32m     49\u001b[0m \u001b[38;5;28;01mdef\u001b[39;00m \u001b[38;5;21m_recalculated_age\u001b[39m(\u001b[38;5;28mself\u001b[39m):\n\u001b[1;32m     50\u001b[0m     today \u001b[38;5;241m=\u001b[39m datetime\u001b[38;5;241m.\u001b[39mdate\u001b[38;5;241m.\u001b[39mtoday()\n\u001b[0;32m---> 51\u001b[0m     age \u001b[38;5;241m=\u001b[39m today\u001b[38;5;241m.\u001b[39myear \u001b[38;5;241m-\u001b[39m \u001b[38;5;28;43mself\u001b[39;49m\u001b[38;5;241;43m.\u001b[39;49m\u001b[43mbirthday\u001b[49m\u001b[38;5;241m.\u001b[39myear\n\u001b[1;32m     52\u001b[0m     \u001b[38;5;28;01mif\u001b[39;00m today \u001b[38;5;241m<\u001b[39m datetime\u001b[38;5;241m.\u001b[39mdate(\n\u001b[1;32m     53\u001b[0m        today\u001b[38;5;241m.\u001b[39myear, \u001b[38;5;28mself\u001b[39m\u001b[38;5;241m.\u001b[39mbirthday\u001b[38;5;241m.\u001b[39mmonth,\n\u001b[1;32m     54\u001b[0m        \u001b[38;5;28mself\u001b[39m\u001b[38;5;241m.\u001b[39mbirthday\u001b[38;5;241m.\u001b[39myear):\n\u001b[1;32m     55\u001b[0m        age \u001b[38;5;241m-\u001b[39m\u001b[38;5;241m=\u001b[39m \u001b[38;5;241m1\u001b[39m\n",
      "\u001b[0;31mAttributeError\u001b[0m: 'Employee' object has no attribute 'birthday'"
     ]
    }
   ],
   "source": [
    "# 클래스의 구조\n",
    "\n",
    "\"\"\"\n",
    "1. 클래스 변수\n",
    "2. __init__\n",
    "3. 내장 파이썬 특수 메서드(__call__, __repr__ 등...)\n",
    "4. 클래스메서드\n",
    "5. 정적 메서드\n",
    "6. 속성\n",
    "7. 인스턴스 메서드\n",
    "8. 프라이빗 메서드\n",
    "\"\"\"\n",
    "\n",
    "import datetime\n",
    "\n",
    "class Employee:\n",
    "    POSITIONS = (\"Superwiser\", \"Manager\", \"CEO\", \"Founder\")\n",
    "\n",
    "    def __init__(self, name, id, department):\n",
    "        self.name = name\n",
    "        self.id = id\n",
    "        self.department = department\n",
    "        self.age = None\n",
    "        self._age_last_calculated = None\n",
    "        self._recalculated_age()\n",
    "\n",
    "    def __str__(self):\n",
    "        return (\"Name: \" + self.name + \"\\nDepartment: \"\n",
    "               + self.department)\n",
    "        \n",
    "    @classmethod\n",
    "    def no_position_allowed(cls, position):\n",
    "        return [t for t in cls.POSITIONS if t != position]\n",
    "\n",
    "    \n",
    "    @staticmethod\n",
    "    def c_positions(cls, position):\n",
    "        return [t for t in cls.TITLES if t in position]\n",
    "\n",
    "    @property\n",
    "    def id_with_name(self):\n",
    "        return self.id, self.name\n",
    "\n",
    "    def age(self):\n",
    "        if (datetime.date.today() > self._age_last_recalculated):\n",
    "            self._recalculated_age()\n",
    "        return self.age\n",
    "\n",
    "    def _recalculated_age(self):\n",
    "        today = datetime.date.today()\n",
    "        age = today.year - self.birthday.year\n",
    "        if today < datetime.date(\n",
    "           today.year, self.birthday.month,\n",
    "           self.birthday.year):\n",
    "           age -= 1\n",
    "\t    \n",
    "        self.age = age\n",
    "        self._age_last_recalculated = today"
   ]
  },
  {
   "cell_type": "code",
   "execution_count": 2,
   "metadata": {},
   "outputs": [
    {
     "name": "stdout",
     "output_type": "stream",
     "text": [
      "50\n",
      "20\n"
     ]
    }
   ],
   "source": [
    "class Person:\n",
    "    def __init__(self, first_name, last_name):\n",
    "        self.age = 50\n",
    "        self.full_name = first_name + last_name\n",
    "\n",
    "    def get_name(self):\n",
    "        return self.full_name\n",
    "\n",
    "class Child(Person):\n",
    "    def __init__(self, first_name, last_name):\n",
    "        super().__init__(first_name, last_name)\n",
    "        self.__age = 20\n",
    "\n",
    "\n",
    "ch = Child(\"Larry\", \"Page\")\n",
    "print(ch.age)              # 50\n",
    "print(ch._Child__age)      # 20"
   ]
  },
  {
   "cell_type": "code",
   "execution_count": 5,
   "metadata": {},
   "outputs": [],
   "source": [
    "class MyClass:\n",
    "    def __init__(self):\n",
    "        self.arg = 1\n",
    "        self._arg = 2\n",
    "        self.__arg = 3\n",
    "\n",
    "\n",
    "my_class = MyClass()"
   ]
  },
  {
   "cell_type": "code",
   "execution_count": 6,
   "metadata": {},
   "outputs": [
    {
     "data": {
      "text/plain": [
       "1"
      ]
     },
     "execution_count": 6,
     "metadata": {},
     "output_type": "execute_result"
    }
   ],
   "source": [
    "my_class.arg"
   ]
  },
  {
   "cell_type": "code",
   "execution_count": 7,
   "metadata": {},
   "outputs": [
    {
     "data": {
      "text/plain": [
       "2"
      ]
     },
     "execution_count": 7,
     "metadata": {},
     "output_type": "execute_result"
    }
   ],
   "source": [
    "my_class._arg"
   ]
  },
  {
   "cell_type": "code",
   "execution_count": 8,
   "metadata": {},
   "outputs": [
    {
     "ename": "AttributeError",
     "evalue": "'MyClass' object has no attribute '__arg'",
     "output_type": "error",
     "traceback": [
      "\u001b[0;31m---------------------------------------------------------------------------\u001b[0m",
      "\u001b[0;31mAttributeError\u001b[0m                            Traceback (most recent call last)",
      "Cell \u001b[0;32mIn[8], line 1\u001b[0m\n\u001b[0;32m----> 1\u001b[0m \u001b[43mmy_class\u001b[49m\u001b[38;5;241;43m.\u001b[39;49m\u001b[43m__arg\u001b[49m\n",
      "\u001b[0;31mAttributeError\u001b[0m: 'MyClass' object has no attribute '__arg'"
     ]
    }
   ],
   "source": [
    "my_class.__arg"
   ]
  },
  {
   "cell_type": "code",
   "execution_count": 9,
   "metadata": {},
   "outputs": [
    {
     "data": {
      "text/plain": [
       "3"
      ]
     },
     "execution_count": 9,
     "metadata": {},
     "output_type": "execute_result"
    }
   ],
   "source": [
    "my_class._MyClass__arg"
   ]
  },
  {
   "cell_type": "code",
   "execution_count": null,
   "metadata": {},
   "outputs": [],
   "source": []
  }
 ],
 "metadata": {
  "kernelspec": {
   "display_name": "general",
   "language": "python",
   "name": "python3"
  },
  "language_info": {
   "codemirror_mode": {
    "name": "ipython",
    "version": 3
   },
   "file_extension": ".py",
   "mimetype": "text/x-python",
   "name": "python",
   "nbconvert_exporter": "python",
   "pygments_lexer": "ipython3",
   "version": "3.11.9"
  }
 },
 "nbformat": 4,
 "nbformat_minor": 2
}
