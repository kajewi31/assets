{
 "cells": [
  {
   "cell_type": "code",
   "execution_count": null,
   "metadata": {},
   "outputs": [],
   "source": [
    "\"\"\"\n",
    "nested_dict = {\n",
    "    'key1': {'a': 1, 'b': 4, 'c': 7, 'd': 10},\n",
    "    'key2': {'a': 2, 'b': 5, 'c': 8, 'd': 11},\n",
    "    'key3': {'a': 3, 'b': 6, 'c': 9, 'd': 12},\n",
    "}\n",
    "\n",
    "->\n",
    "# GET 'a'\n",
    "result = {\n",
    "    'key1': 1,\n",
    "    'key2': 2,\n",
    "    'key3': 3,\n",
    "}\n",
    "\"\"\""
   ]
  },
  {
   "cell_type": "code",
   "execution_count": null,
   "metadata": {},
   "outputs": [],
   "source": [
    "nested_dict = {\n",
    "    'key1': {'a': 1, 'b': 4, 'c': 7, 'd': 10},\n",
    "    'key2': {'a': 2, 'b': 5, 'c': 8, 'd': 11},\n",
    "    'key3': {'a': 3, 'b': 6, 'c': 9, 'd': 12},\n",
    "}"
   ]
  },
  {
   "cell_type": "code",
   "execution_count": null,
   "metadata": {},
   "outputs": [
    {
     "data": {
      "text/plain": [
       "{'key1': 1, 'key2': 3, 'key3': 5}"
      ]
     },
     "execution_count": 3,
     "metadata": {},
     "output_type": "execute_result"
    }
   ],
   "source": [
    "# A\n",
    "result = dict()\n",
    "for key, val_dict in nested_dict.items():\n",
    "    result[key] = val_dict['a']\n",
    "result"
   ]
  },
  {
   "cell_type": "code",
   "execution_count": null,
   "metadata": {},
   "outputs": [
    {
     "data": {
      "text/plain": [
       "{'key1': 1, 'key2': 3, 'key3': 5}"
      ]
     },
     "execution_count": 2,
     "metadata": {},
     "output_type": "execute_result"
    }
   ],
   "source": [
    "# B\n",
    "result = {\n",
    "    key : val_dict['a']\n",
    "    for key,val_dict in nested_dict.items()\n",
    "}\n",
    "result"
   ]
  },
  {
   "cell_type": "code",
   "execution_count": null,
   "metadata": {},
   "outputs": [
    {
     "data": {
      "text/plain": [
       "{'key1': 1, 'key2': 3, 'key3': 5}"
      ]
     },
     "execution_count": 8,
     "metadata": {},
     "output_type": "execute_result"
    }
   ],
   "source": [
    "# C\n",
    "get_a = lambda key: nested_dict[key]['a']\n",
    "result = dict(zip(nested_dict, map(get_a, nested_dict)))\n",
    "result"
   ]
  },
  {
   "cell_type": "code",
   "execution_count": null,
   "metadata": {},
   "outputs": [],
   "source": []
  }
 ],
 "metadata": {
  "kernelspec": {
   "display_name": "general",
   "language": "python",
   "name": "python3"
  },
  "language_info": {
   "codemirror_mode": {
    "name": "ipython",
    "version": 3
   },
   "file_extension": ".py",
   "mimetype": "text/x-python",
   "name": "python",
   "nbconvert_exporter": "python",
   "pygments_lexer": "ipython3",
   "version": "3.11.9"
  }
 },
 "nbformat": 4,
 "nbformat_minor": 2
}
